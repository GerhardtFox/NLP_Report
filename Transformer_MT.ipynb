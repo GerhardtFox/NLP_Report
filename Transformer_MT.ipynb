{
 "cells": [
  {
   "cell_type": "code",
   "execution_count": 1,
   "metadata": {
    "collapsed": true,
    "pycharm": {
     "name": "#%%\n"
    }
   },
   "outputs": [],
   "source": [
    "import os\n",
    "import math\n",
    "\n",
    "import torch\n",
    "import torch.nn as nn\n",
    "\n",
    "# 采用hugging face开源库的分词器\n",
    "# github地址：https://github.com/huggingface/tokenizers\n",
    "from tokenizers import Tokenizer\n",
    "# 用于构建词典\n",
    "from torchtext.vocab import build_vocab_from_iterator\n",
    "from torch.utils.data import Dataset\n",
    "from torch.utils.data import DataLoader\n",
    "from torch.utils.tensorboard import SummaryWriter\n",
    "from torch.nn.functional import pad, log_softmax\n",
    "from pathlib import Path\n",
    "from tqdm import tqdm"
   ]
  },
  {
   "cell_type": "code",
   "execution_count": 2,
   "outputs": [
    {
     "name": "stdout",
     "output_type": "stream",
     "text": [
      "句子数量为： 10000000\n",
      "句子最大长度为： 72\n",
      "batch_size: 32\n",
      "每5000步保存一次模型\n",
      "Device: cuda\n"
     ]
    }
   ],
   "source": [
    "# 工作目录，缓存文件盒模型会放在该目录下\n",
    "work_dir = Path(\"./dataset\")\n",
    "# 训练好的模型会放在该目录下\n",
    "model_dir = Path(\"./model/transformer_checkpoints\")\n",
    "# 上次运行到的地方，如果是第一次运行，为None，如果中途暂停了，下次运行时，指定目前最新的模型即可。\n",
    "model_checkpoint = 'model_60000.pt'\n",
    "\n",
    "# 如果工作目录不存在，则创建一个\n",
    "if not os.path.exists(work_dir):\n",
    "    os.makedirs(work_dir)\n",
    "\n",
    "# 如果工作目录不存在，则创建一个\n",
    "if not os.path.exists(model_dir):\n",
    "    os.makedirs(model_dir)\n",
    "\n",
    "# 英文句子的文件路径\n",
    "en_filepath = './dataset/train.en'\n",
    "# 中文句子的文件路径\n",
    "zh_filepath = './dataset/train.zh'\n",
    "\n",
    "\n",
    "# 定义一个获取文件行数的方法。\n",
    "def get_row_count(filepath):\n",
    "    count = 0\n",
    "    for _ in open(filepath, encoding='utf-8'):\n",
    "        count += 1\n",
    "    return count\n",
    "\n",
    "\n",
    "# 英文句子数量\n",
    "en_row_count = get_row_count(en_filepath)\n",
    "# 中文句子数量\n",
    "zh_row_count = get_row_count(zh_filepath)\n",
    "assert en_row_count == zh_row_count, \"英文和中文文件行数不一致！\"\n",
    "# 句子数量，主要用于后面显示进度。\n",
    "row_count = en_row_count\n",
    "\n",
    "# 定义句子最大长度，如果句子不够这个长度，则填充，若超出该长度，则裁剪\n",
    "max_length = 72\n",
    "print(\"句子数量为：\", en_row_count)\n",
    "print(\"句子最大长度为：\", max_length)\n",
    "\n",
    "# 定义英文和中文词典，都为Vocab类对象，后面会对其初始化\n",
    "en_vocab = None\n",
    "zh_vocab = None\n",
    "\n",
    "# 定义batch_size，由于是训练文本，占用内存较小，可以适当大一些\n",
    "batch_size = 32\n",
    "# epochs数量，不用太大，因为句子数量较多\n",
    "# 实际上在云服务器上设置为1\n",
    "epochs = 10\n",
    "# 多少步保存一次模型，防止程序崩溃导致模型丢失。\n",
    "save_after_step = 5000\n",
    "\n",
    "# 是否使用缓存，由于文件较大，初始化动作较慢，所以将初始化好的文件持久化\n",
    "use_cache = True\n",
    "\n",
    "# 定义训练设备\n",
    "device = torch.device('cuda' if torch.cuda.is_available() else 'cpu')\n",
    "\n",
    "print(\"batch_size:\", batch_size)\n",
    "print(\"每{}步保存一次模型\".format(save_after_step))\n",
    "print(\"Device:\", device)"
   ],
   "metadata": {
    "collapsed": false,
    "pycharm": {
     "name": "#%%\n"
    }
   }
  },
  {
   "cell_type": "code",
   "execution_count": 3,
   "outputs": [],
   "source": [
    "# 加载基础的分词器模型，使用的是基础的bert模型。`uncased`意思是不区分大小写\n",
    "tokenizer = Tokenizer.from_pretrained(\"bert-base-uncased\")\n",
    "\n",
    "\n",
    "def en_tokenizer(line):\n",
    "    # 使用bert进行分词，并获取tokens。add_special_tokens是指不要在结果中增加‘<bos>’和`<eos>`等特殊字符\n",
    "    return tokenizer.encode(line, add_special_tokens=False).tokens"
   ],
   "metadata": {
    "collapsed": false,
    "pycharm": {
     "name": "#%%\n"
    }
   }
  },
  {
   "cell_type": "code",
   "execution_count": 4,
   "outputs": [
    {
     "name": "stdout",
     "output_type": "stream",
     "text": [
      "['i', \"'\", 'm', 'a', 'english', 'token', '##izer', '.']\n"
     ]
    }
   ],
   "source": [
    "# 测试一下英文分词器\n",
    "print(en_tokenizer(\"I'm a English tokenizer.\"))"
   ],
   "metadata": {
    "collapsed": false,
    "pycharm": {
     "name": "#%%\n"
    }
   }
  },
  {
   "cell_type": "code",
   "execution_count": 5,
   "outputs": [],
   "source": [
    "def yield_en_tokens():\n",
    "    file = open(en_filepath, encoding='utf-8')\n",
    "    print(\"-------开始构建英文词典-----------\")\n",
    "    for line in tqdm(file, desc=\"构建英文词典\", total=row_count):\n",
    "        yield en_tokenizer(line)\n",
    "    file.close()"
   ],
   "metadata": {
    "collapsed": false,
    "pycharm": {
     "name": "#%%\n"
    }
   }
  },
  {
   "cell_type": "code",
   "execution_count": 6,
   "outputs": [],
   "source": [
    "# 指定英文词典缓存文件路径\n",
    "en_vocab_file = work_dir / \"vocab_en.pt\"\n",
    "# 如果使用缓存，且缓存文件存在，则加载缓存文件\n",
    "if use_cache and os.path.exists(en_vocab_file):\n",
    "    en_vocab = torch.load(en_vocab_file, map_location=\"cpu\")\n",
    "# 否则就从0开始构造词典\n",
    "else:\n",
    "    # 构造词典\n",
    "    en_vocab = build_vocab_from_iterator(\n",
    "        # 传入一个可迭代的token列表。例如[['i', 'am', ...], ['machine', 'learning', ...], ...]\n",
    "        yield_en_tokens(),\n",
    "        # 最小频率为2，即一个单词最少出现两次才会被收录到词典\n",
    "        min_freq=2,\n",
    "        # 在词典的最开始加上这些特殊token\n",
    "        specials=[\"<s>\", \"</s>\", \"<pad>\", \"<unk>\"],\n",
    "    )\n",
    "    # 设置词典的默认index，后面文本转index时，如果找不到，就会用该index填充\n",
    "    en_vocab.set_default_index(en_vocab[\"<unk>\"])\n",
    "    # 保存缓存文件\n",
    "    if use_cache:\n",
    "        torch.save(en_vocab, en_vocab_file)"
   ],
   "metadata": {
    "collapsed": false,
    "pycharm": {
     "name": "#%%\n"
    }
   }
  },
  {
   "cell_type": "code",
   "execution_count": 7,
   "outputs": [
    {
     "name": "stdout",
     "output_type": "stream",
     "text": [
      "英文词典大小: 27584\n",
      "{0: '<s>', 1: '</s>', 2: '<pad>', 3: '<unk>', 4: '.', 5: ',', 6: 'the', 7: \"'\", 8: 'i', 9: 'you'}\n"
     ]
    }
   ],
   "source": [
    "# 打印一下看一下效果\n",
    "print(\"英文词典大小:\", len(en_vocab))\n",
    "print(dict((i, en_vocab.lookup_token(i)) for i in range(10)))"
   ],
   "metadata": {
    "collapsed": false,
    "pycharm": {
     "name": "#%%\n"
    }
   }
  },
  {
   "cell_type": "code",
   "execution_count": 8,
   "outputs": [],
   "source": [
    "def zh_tokenizer(line):\n",
    "\n",
    "    return list(line.strip().replace(\" \", \"\"))\n",
    "\n",
    "\n",
    "def yield_zh_tokens():\n",
    "    file = open(zh_filepath, encoding='utf-8')\n",
    "    for line in tqdm(file, desc=\"构建中文词典\", total=row_count):\n",
    "        yield zh_tokenizer(line)\n",
    "    file.close()"
   ],
   "metadata": {
    "collapsed": false,
    "pycharm": {
     "name": "#%%\n"
    }
   }
  },
  {
   "cell_type": "code",
   "execution_count": 9,
   "outputs": [],
   "source": [
    "zh_vocab_file = work_dir / \"vocab_zh.pt\"\n",
    "if use_cache and os.path.exists(zh_vocab_file):\n",
    "    zh_vocab = torch.load(zh_vocab_file, map_location=\"cpu\")\n",
    "else:\n",
    "    zh_vocab = build_vocab_from_iterator(\n",
    "        yield_zh_tokens(),\n",
    "        min_freq=1,\n",
    "        specials=[\"<s>\", \"</s>\", \"<pad>\", \"<unk>\"],\n",
    "    )\n",
    "    zh_vocab.set_default_index(zh_vocab[\"<unk>\"])\n",
    "    torch.save(zh_vocab, zh_vocab_file)"
   ],
   "metadata": {
    "collapsed": false,
    "pycharm": {
     "name": "#%%\n"
    }
   }
  },
  {
   "cell_type": "code",
   "execution_count": 10,
   "outputs": [
    {
     "name": "stdout",
     "output_type": "stream",
     "text": [
      "中文词典大小: 8280\n",
      "{0: '<s>', 1: '</s>', 2: '<pad>', 3: '<unk>', 4: '。', 5: '的', 6: '，', 7: '我', 8: '你', 9: '是'}\n"
     ]
    }
   ],
   "source": [
    "# 打印看一下效果\n",
    "print(\"中文词典大小:\", len(zh_vocab))\n",
    "print(dict((i, zh_vocab.lookup_token(i)) for i in range(10)))"
   ],
   "metadata": {
    "collapsed": false,
    "pycharm": {
     "name": "#%%\n"
    }
   }
  },
  {
   "cell_type": "code",
   "execution_count": 11,
   "outputs": [],
   "source": [
    "class TranslationDataset(Dataset):\n",
    "\n",
    "    def __init__(self):\n",
    "        # 加载英文tokens\n",
    "        self.en_tokens = self.load_tokens(en_filepath, en_tokenizer, en_vocab, \"构建英文tokens\", 'en')\n",
    "        # 加载中文tokens\n",
    "        self.zh_tokens = self.load_tokens(zh_filepath, zh_tokenizer, zh_vocab, \"构建中文tokens\", 'zh')\n",
    "\n",
    "    def __getitem__(self, index):\n",
    "        return self.en_tokens[index], self.zh_tokens[index]\n",
    "\n",
    "    def __len__(self):\n",
    "        return row_count\n",
    "\n",
    "    def load_tokens(self, file, tokenizer, vocab, desc, lang):\n",
    "\n",
    "        # 定义缓存文件存储路径\n",
    "        cache_file = work_dir / \"tokens_list.{}.pt\".format(lang)\n",
    "        # 如果使用缓存，且缓存文件存在，则直接加载\n",
    "        if use_cache and os.path.exists(cache_file):\n",
    "            print(f\"正在加载缓存文件{cache_file}, 请稍后...\")\n",
    "            return torch.load(cache_file, map_location=\"cpu\")\n",
    "\n",
    "        # 从0开始构建，定义tokens_list用于存储结果\n",
    "        tokens_list = []\n",
    "        # 打开文件\n",
    "        with open(file, encoding='utf-8') as file:\n",
    "            # 逐行读取\n",
    "            for line in tqdm(file, desc=desc, total=row_count):\n",
    "                # 进行分词\n",
    "                tokens = tokenizer(line)\n",
    "                # 将文本分词结果通过词典转成index\n",
    "                tokens = vocab(tokens)\n",
    "                # append到结果中\n",
    "                tokens_list.append(tokens)\n",
    "        # 保存缓存文件\n",
    "        if use_cache:\n",
    "            torch.save(tokens_list, cache_file)\n",
    "\n",
    "        return tokens_list"
   ],
   "metadata": {
    "collapsed": false,
    "pycharm": {
     "name": "#%%\n"
    }
   }
  },
  {
   "cell_type": "code",
   "execution_count": 12,
   "outputs": [
    {
     "name": "stdout",
     "output_type": "stream",
     "text": [
      "正在加载缓存文件dataset\\tokens_list.en.pt, 请稍后...\n",
      "正在加载缓存文件dataset\\tokens_list.zh.pt, 请稍后...\n"
     ]
    }
   ],
   "source": [
    "dataset = TranslationDataset()"
   ],
   "metadata": {
    "collapsed": false,
    "pycharm": {
     "name": "#%%\n"
    }
   }
  },
  {
   "cell_type": "code",
   "execution_count": 13,
   "outputs": [
    {
     "name": "stdout",
     "output_type": "stream",
     "text": [
      "([11, 2730, 12, 554, 19, 17210, 18077, 27, 3078, 203, 57, 102, 18832, 3653], [12, 40, 1173, 1084, 3169, 164, 693, 397, 84, 100, 14, 5, 1218, 2397, 535, 67])\n"
     ]
    }
   ],
   "source": [
    "# 查看定义后的dataset\n",
    "print(dataset.__getitem__(0))"
   ],
   "metadata": {
    "collapsed": false,
    "pycharm": {
     "name": "#%%\n"
    }
   }
  },
  {
   "cell_type": "code",
   "execution_count": 14,
   "outputs": [],
   "source": [
    "def collate_fn(batch):\n",
    "\n",
    "\n",
    "    # 定义'<bos>'的index，在词典中为0，所以这里也是0\n",
    "    bs_id = torch.tensor([0])\n",
    "    # 定义'<eos>'的index\n",
    "    eos_id = torch.tensor([1])\n",
    "    # 定义<pad>的index\n",
    "    pad_id = 2\n",
    "\n",
    "    # 用于存储处理后的src和tgt\n",
    "    src_list, tgt_list = [], []\n",
    "\n",
    "    # 循环遍历句子对儿\n",
    "    for (_src, _tgt) in batch:\n",
    "\n",
    "        processed_src = torch.cat(\n",
    "            # 将<bos>，句子index和<eos>拼到一块\n",
    "            [\n",
    "                bs_id,\n",
    "                torch.tensor(\n",
    "                    _src,\n",
    "                    dtype=torch.int64,\n",
    "                ),\n",
    "                eos_id,\n",
    "            ],\n",
    "            0,\n",
    "        )\n",
    "        processed_tgt = torch.cat(\n",
    "            [\n",
    "                bs_id,\n",
    "                torch.tensor(\n",
    "                    _tgt,\n",
    "                    dtype=torch.int64,\n",
    "                ),\n",
    "                eos_id,\n",
    "            ],\n",
    "            0,\n",
    "        )\n",
    "\n",
    "        src_list.append(\n",
    "            pad(\n",
    "                processed_src,\n",
    "                (0, max_length - len(processed_src),),\n",
    "                value=pad_id,\n",
    "            )\n",
    "        )\n",
    "        tgt_list.append(\n",
    "            pad(\n",
    "                processed_tgt,\n",
    "                (0, max_length - len(processed_tgt),),\n",
    "                value=pad_id,\n",
    "            )\n",
    "        )\n",
    "\n",
    "    # 将多个src句子堆叠到一起\n",
    "    src = torch.stack(src_list)\n",
    "    tgt = torch.stack(tgt_list)\n",
    "\n",
    "    # tgt_y是目标句子去掉第一个token，即去掉<bos>\n",
    "    tgt_y = tgt[:, 1:]\n",
    "    # tgt是目标句子去掉最后一个token\n",
    "    tgt = tgt[:, :-1]\n",
    "\n",
    "    # 计算本次batch要预测的token数\n",
    "    n_tokens = (tgt_y != 2).sum()\n",
    "\n",
    "    # 返回batch后的结果\n",
    "    return src, tgt, tgt_y, n_tokens"
   ],
   "metadata": {
    "collapsed": false,
    "pycharm": {
     "name": "#%%\n"
    }
   }
  },
  {
   "cell_type": "code",
   "execution_count": 15,
   "outputs": [
    {
     "name": "stdout",
     "output_type": "stream",
     "text": [
      "src.size: torch.Size([32, 72])\n",
      "tgt.size: torch.Size([32, 71])\n",
      "tgt_y.size: torch.Size([32, 71])\n",
      "n_tokens: tensor(607)\n"
     ]
    }
   ],
   "source": [
    "train_loader = DataLoader(dataset, batch_size=batch_size, shuffle=True, collate_fn=collate_fn)\n",
    "src, tgt, tgt_y, n_tokens = next(iter(train_loader))\n",
    "src, tgt, tgt_y = src.to(device), tgt.to(device), tgt_y.to(device)\n",
    "print(\"src.size:\", src.size())\n",
    "print(\"tgt.size:\", tgt.size())\n",
    "print(\"tgt_y.size:\", tgt_y.size())\n",
    "print(\"n_tokens:\", n_tokens)"
   ],
   "metadata": {
    "collapsed": false,
    "pycharm": {
     "name": "#%%\n"
    }
   }
  },
  {
   "cell_type": "code",
   "execution_count": 16,
   "outputs": [],
   "source": [
    "class PositionalEncoding(nn.Module):\n",
    "\n",
    "    def __init__(self, d_model, dropout, max_len=5000):\n",
    "        super(PositionalEncoding, self).__init__()\n",
    "        self.dropout = nn.Dropout(p=dropout)\n",
    "\n",
    "        # 初始化Shape为(max_len, d_model)的PE (positional encoding)\n",
    "        pe = torch.zeros(max_len, d_model).to(device)\n",
    "        # 初始化一个tensor [[0, 1, 2, 3, ...]]\n",
    "        position = torch.arange(0, max_len).unsqueeze(1)\n",
    "        # 这里就是sin和cos括号中的内容，通过e和ln进行了变换\n",
    "        div_term = torch.exp(\n",
    "            torch.arange(0, d_model, 2) * -(math.log(10000.0) / d_model)\n",
    "        )\n",
    "        # 计算PE(pos, 2i)\n",
    "        pe[:, 0::2] = torch.sin(position * div_term)\n",
    "        # 计算PE(pos, 2i+1)\n",
    "        pe[:, 1::2] = torch.cos(position * div_term)\n",
    "        # 为了方便计算，在最外面在unsqueeze出一个batch\n",
    "        pe = pe.unsqueeze(0)\n",
    "        # 如果一个参数不参与梯度下降，但又希望保存model的时候将其保存下来\n",
    "        # 这个时候就可以用register_buffer\n",
    "        self.register_buffer(\"pe\", pe)\n",
    "\n",
    "    def forward(self, x):\n",
    "\n",
    "        # 将x和positional encoding相加。\n",
    "        x = x + self.pe[:, : x.size(1)].requires_grad_(False)\n",
    "        return self.dropout(x)"
   ],
   "metadata": {
    "collapsed": false,
    "pycharm": {
     "name": "#%%\n"
    }
   }
  },
  {
   "cell_type": "code",
   "execution_count": 17,
   "outputs": [],
   "source": [
    "class TranslationModel(nn.Module):\n",
    "\n",
    "    def __init__(self, d_model, src_vocab, tgt_vocab, dropout=0.1):\n",
    "        super(TranslationModel, self).__init__()\n",
    "\n",
    "        # 定义原句子的embedding\n",
    "        self.src_embedding = nn.Embedding(len(src_vocab), d_model, padding_idx=2)\n",
    "        # 定义目标句子的embedding\n",
    "        self.tgt_embedding = nn.Embedding(len(tgt_vocab), d_model, padding_idx=2)\n",
    "        # 定义posintional encoding\n",
    "        self.positional_encoding = PositionalEncoding(d_model, dropout, max_len=max_length)\n",
    "        # 定义Transformer\n",
    "        self.transformer = nn.Transformer(d_model, dropout=dropout, batch_first=True)\n",
    "\n",
    "        # 定义最后的预测层，这里并没有定义Softmax，而是把他放在了模型外。\n",
    "        self.predictor = nn.Linear(d_model, len(tgt_vocab))\n",
    "\n",
    "    def forward(self, src, tgt):\n",
    "\n",
    "        tgt_mask = nn.Transformer.generate_square_subsequent_mask(tgt.size()[-1]).to(device)\n",
    "        # 掩盖住原句子中<pad>的部分，例如[[False,False,False,..., True,True,...], ...]\n",
    "        src_key_padding_mask = TranslationModel.get_key_padding_mask(src)\n",
    "        # 掩盖住目标句子中<pad>的部分\n",
    "        tgt_key_padding_mask = TranslationModel.get_key_padding_mask(tgt)\n",
    "\n",
    "        # 对src和tgt进行编码\n",
    "        src = self.src_embedding(src)\n",
    "        tgt = self.tgt_embedding(tgt)\n",
    "        # 给src和tgt的token增加位置信息\n",
    "        src = self.positional_encoding(src)\n",
    "        tgt = self.positional_encoding(tgt)\n",
    "\n",
    "        # 将准备好的数据送给transformer\n",
    "        out = self.transformer(src, tgt,\n",
    "                               tgt_mask=tgt_mask,\n",
    "                               src_key_padding_mask=src_key_padding_mask,\n",
    "                               tgt_key_padding_mask=tgt_key_padding_mask)\n",
    "\n",
    "        \"\"\"\n",
    "        这里直接返回transformer的结果。因为训练和推理时的行为不一样，\n",
    "        所以在该模型外再进行线性层的预测。\n",
    "        \"\"\"\n",
    "        return out\n",
    "\n",
    "    @staticmethod\n",
    "    def get_key_padding_mask(tokens):\n",
    "        \"\"\"\n",
    "        用于key_padding_mask\n",
    "        \"\"\"\n",
    "        return tokens == 2"
   ],
   "metadata": {
    "collapsed": false,
    "pycharm": {
     "name": "#%%\n"
    }
   }
  },
  {
   "cell_type": "code",
   "execution_count": 18,
   "outputs": [],
   "source": [
    "if model_checkpoint:\n",
    "    model = torch.load(model_dir / model_checkpoint)\n",
    "else:\n",
    "    model = TranslationModel(256, en_vocab, zh_vocab)\n",
    "model = model.to(device)"
   ],
   "metadata": {
    "collapsed": false,
    "pycharm": {
     "name": "#%%\n"
    }
   }
  },
  {
   "cell_type": "code",
   "execution_count": 19,
   "outputs": [
    {
     "data": {
      "text/plain": "torch.Size([32, 71, 256])"
     },
     "execution_count": 19,
     "metadata": {},
     "output_type": "execute_result"
    }
   ],
   "source": [
    "model(src, tgt).size()"
   ],
   "metadata": {
    "collapsed": false,
    "pycharm": {
     "name": "#%%\n"
    }
   }
  },
  {
   "cell_type": "code",
   "execution_count": 20,
   "outputs": [
    {
     "data": {
      "text/plain": "tensor([[[-3.6271e-01, -9.7821e-01,  5.3958e-01,  ...,  5.6546e-01,\n           7.0741e-01, -8.9598e-01],\n         [-1.7151e-01, -2.3149e+00, -3.1446e-02,  ...,  1.0045e+00,\n           2.0648e+00, -2.5828e+00],\n         [-5.3496e-01, -2.9144e+00,  7.3215e-01,  ...,  8.1896e-01,\n           4.3978e-01,  1.3576e-01],\n         ...,\n         [-4.6413e-01, -3.8078e-01, -3.9712e-01,  ..., -3.0775e-02,\n           5.2653e-01, -1.8802e-01],\n         [-3.4753e-01, -4.7597e-01,  2.6302e-01,  ..., -6.3313e-02,\n          -4.1884e-01, -1.7721e-01],\n         [-6.7309e-01, -1.1690e+00,  1.5862e-01,  ...,  5.3284e-01,\n           2.6138e-01,  2.2063e-03]],\n\n        [[-8.0486e-01, -1.0148e+00,  1.4523e-01,  ..., -2.0140e-01,\n           8.1515e-01, -7.9273e-02],\n         [-3.1072e-01, -1.3441e-01, -5.5757e-01,  ..., -6.2475e-01,\n          -5.2991e-02,  2.3331e-01],\n         [-3.6787e-01, -2.9114e-02, -1.2364e+00,  ...,  8.0489e-01,\n          -2.3546e-01,  6.1322e-01],\n         ...,\n         [ 2.8521e-01, -5.1079e-01,  2.5552e-01,  ..., -5.4603e-01,\n          -2.0748e-01, -3.4862e-01],\n         [ 4.4124e-01,  1.4456e-01,  2.9285e-01,  ..., -6.7915e-01,\n           1.8919e-01,  3.6394e-01],\n         [ 5.6013e-01,  9.5746e-02,  1.0501e-01,  ..., -4.0539e-01,\n           4.1144e-01,  3.1278e-01]],\n\n        [[-6.1726e-01, -1.3667e+00, -1.0877e+00,  ...,  8.4891e-02,\n           3.6903e-01, -2.6949e+00],\n         [-2.3211e-01, -1.0490e+00,  5.5629e-02,  ...,  1.3489e+00,\n           4.1436e-01, -1.4330e+00],\n         [-3.9873e-01, -7.4049e-03, -2.9129e-01,  ...,  4.9533e-01,\n          -1.0487e-01, -7.0339e-01],\n         ...,\n         [ 8.5978e-01, -9.0719e-01,  2.5021e-01,  ...,  1.7541e-01,\n           4.6164e-02, -4.6233e-01],\n         [ 5.7616e-01, -7.4725e-01,  5.9447e-01,  ...,  1.6117e-01,\n           7.1160e-01,  3.0597e-02],\n         [ 5.0774e-01, -1.1834e+00,  5.4453e-01,  ..., -1.0356e-01,\n          -1.6687e-01, -1.9467e-01]],\n\n        ...,\n\n        [[-5.8251e-01, -1.8158e+00, -5.5047e-02,  ...,  5.8841e-01,\n           3.4778e-01, -6.5612e-01],\n         [-1.4161e+00, -2.0939e+00, -1.0070e+00,  ...,  1.5364e+00,\n           4.4337e-01,  1.0758e+00],\n         [ 3.0204e-01, -1.1016e+00,  2.3910e-01,  ...,  1.5846e+00,\n           9.1888e-01, -2.0254e-01],\n         ...,\n         [ 4.9734e-02,  1.4607e-01, -8.7369e-02,  ..., -9.2224e-01,\n           2.9043e-01,  1.9560e-01],\n         [ 1.2490e-01, -2.0524e-01, -5.7748e-01,  ..., -5.9828e-01,\n           5.4078e-01,  1.2229e-01],\n         [ 3.9620e-01, -1.7105e+00,  1.1477e+00,  ..., -1.2483e+00,\n           6.6922e-01,  3.9831e-01]],\n\n        [[ 5.0444e-01, -1.0501e+00, -8.2797e-01,  ...,  1.1989e-01,\n          -1.0212e-01,  3.7005e-01],\n         [-3.2845e-02, -1.6995e+00, -3.9746e-01,  ...,  6.2132e-01,\n          -4.5298e-01,  3.3130e-01],\n         [ 1.3993e+00, -1.2151e+00, -1.7992e+00,  ...,  1.4106e+00,\n          -1.3296e+00,  6.7354e-01],\n         ...,\n         [-1.6560e+00, -1.5591e+00,  3.2881e-01,  ..., -4.2861e-02,\n          -1.0416e+00,  1.1058e+00],\n         [-1.5626e-01, -1.7870e-01,  1.0075e+00,  ..., -5.2119e-02,\n          -1.1144e+00,  1.0469e+00],\n         [-1.1991e+00, -5.4116e-01,  9.7884e-01,  ..., -3.5215e-01,\n          -2.5646e-01,  6.4367e-01]],\n\n        [[-2.9630e-01, -4.8468e-01,  2.5075e-01,  ..., -1.5004e-01,\n           4.0295e-01,  4.0705e-01],\n         [-3.7291e-01,  6.6671e-02, -4.8859e-01,  ..., -2.7450e-01,\n           4.7887e-01,  3.3835e-01],\n         [-2.3459e-01, -3.5616e-01, -8.0088e-01,  ..., -4.5944e-01,\n           3.8560e-01,  4.4170e-01],\n         ...,\n         [ 3.1646e-01, -9.2033e-02,  2.8099e-01,  ..., -1.9857e+00,\n          -1.2496e+00,  1.0276e-01],\n         [-1.8049e-01,  6.4052e-02,  6.8809e-01,  ..., -6.6172e-01,\n          -1.9676e-01, -3.6502e-01],\n         [-2.0966e-01,  2.8935e-01,  7.8226e-01,  ..., -6.8907e-01,\n          -7.6341e-01, -9.7074e-02]]], device='cuda:0',\n       grad_fn=<NativeLayerNormBackward0>)"
     },
     "execution_count": 20,
     "metadata": {},
     "output_type": "execute_result"
    }
   ],
   "source": [
    "model(src, tgt)"
   ],
   "metadata": {
    "collapsed": false,
    "pycharm": {
     "name": "#%%\n"
    }
   }
  },
  {
   "cell_type": "code",
   "execution_count": 21,
   "outputs": [],
   "source": [
    "optimizer = torch.optim.Adam(model.parameters(), lr=3e-4)"
   ],
   "metadata": {
    "collapsed": false,
    "pycharm": {
     "name": "#%%\n"
    }
   }
  },
  {
   "cell_type": "code",
   "execution_count": 22,
   "outputs": [],
   "source": [
    "class TranslationLoss(nn.Module):\n",
    "\n",
    "    def __init__(self):\n",
    "        super(TranslationLoss, self).__init__()\n",
    "        # 使用KLDivLoss，不需要知道里面的具体细节。\n",
    "        self.criterion = nn.KLDivLoss(reduction=\"sum\")\n",
    "        self.padding_idx = 2\n",
    "\n",
    "    def forward(self, x, target):\n",
    "        \"\"\"\n",
    "        损失函数的前向传递\n",
    "        :param x: 将Decoder的输出再经过predictor线性层之后的输出。\n",
    "                  也就是Linear后、Softmax前的状态\n",
    "        :param target: tgt_y。也就是label，例如[[1, 34, 15, ...], ...]\n",
    "        :return: loss\n",
    "        \"\"\"\n",
    "\n",
    "        \"\"\"\n",
    "        由于KLDivLoss的input需要对softmax做log，所以使用log_softmax。\n",
    "        等价于：log(softmax(x))\n",
    "        \"\"\"\n",
    "        x = log_softmax(x, dim=-1)\n",
    "\n",
    "        \"\"\"\n",
    "        构造Label的分布，也就是将[[1, 34, 15, ...]] 转化为:\n",
    "        [[[0, 1, 0, ..., 0],\n",
    "          [0, ..., 1, ..,0],\n",
    "          ...]],\n",
    "        ...]\n",
    "        \"\"\"\n",
    "        # 首先按照x的Shape构造出一个全是0的Tensor\n",
    "        true_dist = torch.zeros(x.size()).to(device)\n",
    "        # 将对应index的部分填充为1\n",
    "        true_dist.scatter_(1, target.data.unsqueeze(1), 1)\n",
    "        # 找出<pad>部分，对于<pad>标签，全部填充为0，没有1，避免其参与损失计算。\n",
    "        mask = torch.nonzero(target.data == self.padding_idx)\n",
    "        if mask.dim() > 0:\n",
    "            true_dist.index_fill_(0, mask.squeeze(), 0.0)\n",
    "\n",
    "        # 计算损失\n",
    "        return self.criterion(x, true_dist.clone().detach())"
   ],
   "metadata": {
    "collapsed": false,
    "pycharm": {
     "name": "#%%\n"
    }
   }
  },
  {
   "cell_type": "code",
   "execution_count": 26,
   "outputs": [
    {
     "name": "stderr",
     "output_type": "stream",
     "text": [
      "\n",
      "Epoch 0/10:   0%|          | 69/312500 [4:01:04<18193:25:19, 209.63s/it, loss=3.04]\n"
     ]
    },
    {
     "ename": "OutOfMemoryError",
     "evalue": "CUDA out of memory. Tried to allocate 20.00 MiB (GPU 0; 4.00 GiB total capacity; 3.44 GiB already allocated; 0 bytes free; 3.50 GiB reserved in total by PyTorch) If reserved memory is >> allocated memory try setting max_split_size_mb to avoid fragmentation.  See documentation for Memory Management and PYTORCH_CUDA_ALLOC_CONF",
     "output_type": "error",
     "traceback": [
      "\u001B[1;31m---------------------------------------------------------------------------\u001B[0m",
      "\u001B[1;31mOutOfMemoryError\u001B[0m                          Traceback (most recent call last)",
      "\u001B[1;32m~\\AppData\\Local\\Temp\\ipykernel_17892\\1451731296.py\u001B[0m in \u001B[0;36m<module>\u001B[1;34m\u001B[0m\n\u001B[0;32m     19\u001B[0m         \u001B[0moptimizer\u001B[0m\u001B[1;33m.\u001B[0m\u001B[0mzero_grad\u001B[0m\u001B[1;33m(\u001B[0m\u001B[1;33m)\u001B[0m\u001B[1;33m\u001B[0m\u001B[1;33m\u001B[0m\u001B[0m\n\u001B[0;32m     20\u001B[0m         \u001B[1;31m# 进行transformer的计算\u001B[0m\u001B[1;33m\u001B[0m\u001B[1;33m\u001B[0m\u001B[1;33m\u001B[0m\u001B[0m\n\u001B[1;32m---> 21\u001B[1;33m         \u001B[0mout\u001B[0m \u001B[1;33m=\u001B[0m \u001B[0mmodel\u001B[0m\u001B[1;33m(\u001B[0m\u001B[0msrc\u001B[0m\u001B[1;33m,\u001B[0m \u001B[0mtgt\u001B[0m\u001B[1;33m)\u001B[0m\u001B[1;33m\u001B[0m\u001B[1;33m\u001B[0m\u001B[0m\n\u001B[0m\u001B[0;32m     22\u001B[0m         \u001B[1;31m# 将结果送给最后的线性层进行预测\u001B[0m\u001B[1;33m\u001B[0m\u001B[1;33m\u001B[0m\u001B[1;33m\u001B[0m\u001B[0m\n\u001B[0;32m     23\u001B[0m         \u001B[0mout\u001B[0m \u001B[1;33m=\u001B[0m \u001B[0mmodel\u001B[0m\u001B[1;33m.\u001B[0m\u001B[0mpredictor\u001B[0m\u001B[1;33m(\u001B[0m\u001B[0mout\u001B[0m\u001B[1;33m)\u001B[0m\u001B[1;33m\u001B[0m\u001B[1;33m\u001B[0m\u001B[0m\n",
      "\u001B[1;32mC:\\Anaconda3\\envs\\pytorch\\lib\\site-packages\\torch\\nn\\modules\\module.py\u001B[0m in \u001B[0;36m_call_impl\u001B[1;34m(self, *input, **kwargs)\u001B[0m\n\u001B[0;32m   1192\u001B[0m         if not (self._backward_hooks or self._forward_hooks or self._forward_pre_hooks or _global_backward_hooks\n\u001B[0;32m   1193\u001B[0m                 or _global_forward_hooks or _global_forward_pre_hooks):\n\u001B[1;32m-> 1194\u001B[1;33m             \u001B[1;32mreturn\u001B[0m \u001B[0mforward_call\u001B[0m\u001B[1;33m(\u001B[0m\u001B[1;33m*\u001B[0m\u001B[0minput\u001B[0m\u001B[1;33m,\u001B[0m \u001B[1;33m**\u001B[0m\u001B[0mkwargs\u001B[0m\u001B[1;33m)\u001B[0m\u001B[1;33m\u001B[0m\u001B[1;33m\u001B[0m\u001B[0m\n\u001B[0m\u001B[0;32m   1195\u001B[0m         \u001B[1;31m# Do not call functions when jit is used\u001B[0m\u001B[1;33m\u001B[0m\u001B[1;33m\u001B[0m\u001B[1;33m\u001B[0m\u001B[0m\n\u001B[0;32m   1196\u001B[0m         \u001B[0mfull_backward_hooks\u001B[0m\u001B[1;33m,\u001B[0m \u001B[0mnon_full_backward_hooks\u001B[0m \u001B[1;33m=\u001B[0m \u001B[1;33m[\u001B[0m\u001B[1;33m]\u001B[0m\u001B[1;33m,\u001B[0m \u001B[1;33m[\u001B[0m\u001B[1;33m]\u001B[0m\u001B[1;33m\u001B[0m\u001B[1;33m\u001B[0m\u001B[0m\n",
      "\u001B[1;32m~\\AppData\\Local\\Temp\\ipykernel_17892\\785707423.py\u001B[0m in \u001B[0;36mforward\u001B[1;34m(self, src, tgt)\u001B[0m\n\u001B[0;32m     51\u001B[0m                                \u001B[0mtgt_mask\u001B[0m\u001B[1;33m=\u001B[0m\u001B[0mtgt_mask\u001B[0m\u001B[1;33m,\u001B[0m\u001B[1;33m\u001B[0m\u001B[1;33m\u001B[0m\u001B[0m\n\u001B[0;32m     52\u001B[0m                                \u001B[0msrc_key_padding_mask\u001B[0m\u001B[1;33m=\u001B[0m\u001B[0msrc_key_padding_mask\u001B[0m\u001B[1;33m,\u001B[0m\u001B[1;33m\u001B[0m\u001B[1;33m\u001B[0m\u001B[0m\n\u001B[1;32m---> 53\u001B[1;33m                                tgt_key_padding_mask=tgt_key_padding_mask)\n\u001B[0m\u001B[0;32m     54\u001B[0m \u001B[1;33m\u001B[0m\u001B[0m\n\u001B[0;32m     55\u001B[0m         \"\"\"\n",
      "\u001B[1;32mC:\\Anaconda3\\envs\\pytorch\\lib\\site-packages\\torch\\nn\\modules\\module.py\u001B[0m in \u001B[0;36m_call_impl\u001B[1;34m(self, *input, **kwargs)\u001B[0m\n\u001B[0;32m   1192\u001B[0m         if not (self._backward_hooks or self._forward_hooks or self._forward_pre_hooks or _global_backward_hooks\n\u001B[0;32m   1193\u001B[0m                 or _global_forward_hooks or _global_forward_pre_hooks):\n\u001B[1;32m-> 1194\u001B[1;33m             \u001B[1;32mreturn\u001B[0m \u001B[0mforward_call\u001B[0m\u001B[1;33m(\u001B[0m\u001B[1;33m*\u001B[0m\u001B[0minput\u001B[0m\u001B[1;33m,\u001B[0m \u001B[1;33m**\u001B[0m\u001B[0mkwargs\u001B[0m\u001B[1;33m)\u001B[0m\u001B[1;33m\u001B[0m\u001B[1;33m\u001B[0m\u001B[0m\n\u001B[0m\u001B[0;32m   1195\u001B[0m         \u001B[1;31m# Do not call functions when jit is used\u001B[0m\u001B[1;33m\u001B[0m\u001B[1;33m\u001B[0m\u001B[1;33m\u001B[0m\u001B[0m\n\u001B[0;32m   1196\u001B[0m         \u001B[0mfull_backward_hooks\u001B[0m\u001B[1;33m,\u001B[0m \u001B[0mnon_full_backward_hooks\u001B[0m \u001B[1;33m=\u001B[0m \u001B[1;33m[\u001B[0m\u001B[1;33m]\u001B[0m\u001B[1;33m,\u001B[0m \u001B[1;33m[\u001B[0m\u001B[1;33m]\u001B[0m\u001B[1;33m\u001B[0m\u001B[1;33m\u001B[0m\u001B[0m\n",
      "\u001B[1;32mC:\\Anaconda3\\envs\\pytorch\\lib\\site-packages\\torch\\nn\\modules\\transformer.py\u001B[0m in \u001B[0;36mforward\u001B[1;34m(self, src, tgt, src_mask, tgt_mask, memory_mask, src_key_padding_mask, tgt_key_padding_mask, memory_key_padding_mask)\u001B[0m\n\u001B[0;32m    147\u001B[0m         output = self.decoder(tgt, memory, tgt_mask=tgt_mask, memory_mask=memory_mask,\n\u001B[0;32m    148\u001B[0m                               \u001B[0mtgt_key_padding_mask\u001B[0m\u001B[1;33m=\u001B[0m\u001B[0mtgt_key_padding_mask\u001B[0m\u001B[1;33m,\u001B[0m\u001B[1;33m\u001B[0m\u001B[1;33m\u001B[0m\u001B[0m\n\u001B[1;32m--> 149\u001B[1;33m                               memory_key_padding_mask=memory_key_padding_mask)\n\u001B[0m\u001B[0;32m    150\u001B[0m         \u001B[1;32mreturn\u001B[0m \u001B[0moutput\u001B[0m\u001B[1;33m\u001B[0m\u001B[1;33m\u001B[0m\u001B[0m\n\u001B[0;32m    151\u001B[0m \u001B[1;33m\u001B[0m\u001B[0m\n",
      "\u001B[1;32mC:\\Anaconda3\\envs\\pytorch\\lib\\site-packages\\torch\\nn\\modules\\module.py\u001B[0m in \u001B[0;36m_call_impl\u001B[1;34m(self, *input, **kwargs)\u001B[0m\n\u001B[0;32m   1192\u001B[0m         if not (self._backward_hooks or self._forward_hooks or self._forward_pre_hooks or _global_backward_hooks\n\u001B[0;32m   1193\u001B[0m                 or _global_forward_hooks or _global_forward_pre_hooks):\n\u001B[1;32m-> 1194\u001B[1;33m             \u001B[1;32mreturn\u001B[0m \u001B[0mforward_call\u001B[0m\u001B[1;33m(\u001B[0m\u001B[1;33m*\u001B[0m\u001B[0minput\u001B[0m\u001B[1;33m,\u001B[0m \u001B[1;33m**\u001B[0m\u001B[0mkwargs\u001B[0m\u001B[1;33m)\u001B[0m\u001B[1;33m\u001B[0m\u001B[1;33m\u001B[0m\u001B[0m\n\u001B[0m\u001B[0;32m   1195\u001B[0m         \u001B[1;31m# Do not call functions when jit is used\u001B[0m\u001B[1;33m\u001B[0m\u001B[1;33m\u001B[0m\u001B[1;33m\u001B[0m\u001B[0m\n\u001B[0;32m   1196\u001B[0m         \u001B[0mfull_backward_hooks\u001B[0m\u001B[1;33m,\u001B[0m \u001B[0mnon_full_backward_hooks\u001B[0m \u001B[1;33m=\u001B[0m \u001B[1;33m[\u001B[0m\u001B[1;33m]\u001B[0m\u001B[1;33m,\u001B[0m \u001B[1;33m[\u001B[0m\u001B[1;33m]\u001B[0m\u001B[1;33m\u001B[0m\u001B[1;33m\u001B[0m\u001B[0m\n",
      "\u001B[1;32mC:\\Anaconda3\\envs\\pytorch\\lib\\site-packages\\torch\\nn\\modules\\transformer.py\u001B[0m in \u001B[0;36mforward\u001B[1;34m(self, tgt, memory, tgt_mask, memory_mask, tgt_key_padding_mask, memory_key_padding_mask)\u001B[0m\n\u001B[0;32m    334\u001B[0m                          \u001B[0mmemory_mask\u001B[0m\u001B[1;33m=\u001B[0m\u001B[0mmemory_mask\u001B[0m\u001B[1;33m,\u001B[0m\u001B[1;33m\u001B[0m\u001B[1;33m\u001B[0m\u001B[0m\n\u001B[0;32m    335\u001B[0m                          \u001B[0mtgt_key_padding_mask\u001B[0m\u001B[1;33m=\u001B[0m\u001B[0mtgt_key_padding_mask\u001B[0m\u001B[1;33m,\u001B[0m\u001B[1;33m\u001B[0m\u001B[1;33m\u001B[0m\u001B[0m\n\u001B[1;32m--> 336\u001B[1;33m                          memory_key_padding_mask=memory_key_padding_mask)\n\u001B[0m\u001B[0;32m    337\u001B[0m \u001B[1;33m\u001B[0m\u001B[0m\n\u001B[0;32m    338\u001B[0m         \u001B[1;32mif\u001B[0m \u001B[0mself\u001B[0m\u001B[1;33m.\u001B[0m\u001B[0mnorm\u001B[0m \u001B[1;32mis\u001B[0m \u001B[1;32mnot\u001B[0m \u001B[1;32mNone\u001B[0m\u001B[1;33m:\u001B[0m\u001B[1;33m\u001B[0m\u001B[1;33m\u001B[0m\u001B[0m\n",
      "\u001B[1;32mC:\\Anaconda3\\envs\\pytorch\\lib\\site-packages\\torch\\nn\\modules\\module.py\u001B[0m in \u001B[0;36m_call_impl\u001B[1;34m(self, *input, **kwargs)\u001B[0m\n\u001B[0;32m   1192\u001B[0m         if not (self._backward_hooks or self._forward_hooks or self._forward_pre_hooks or _global_backward_hooks\n\u001B[0;32m   1193\u001B[0m                 or _global_forward_hooks or _global_forward_pre_hooks):\n\u001B[1;32m-> 1194\u001B[1;33m             \u001B[1;32mreturn\u001B[0m \u001B[0mforward_call\u001B[0m\u001B[1;33m(\u001B[0m\u001B[1;33m*\u001B[0m\u001B[0minput\u001B[0m\u001B[1;33m,\u001B[0m \u001B[1;33m**\u001B[0m\u001B[0mkwargs\u001B[0m\u001B[1;33m)\u001B[0m\u001B[1;33m\u001B[0m\u001B[1;33m\u001B[0m\u001B[0m\n\u001B[0m\u001B[0;32m   1195\u001B[0m         \u001B[1;31m# Do not call functions when jit is used\u001B[0m\u001B[1;33m\u001B[0m\u001B[1;33m\u001B[0m\u001B[1;33m\u001B[0m\u001B[0m\n\u001B[0;32m   1196\u001B[0m         \u001B[0mfull_backward_hooks\u001B[0m\u001B[1;33m,\u001B[0m \u001B[0mnon_full_backward_hooks\u001B[0m \u001B[1;33m=\u001B[0m \u001B[1;33m[\u001B[0m\u001B[1;33m]\u001B[0m\u001B[1;33m,\u001B[0m \u001B[1;33m[\u001B[0m\u001B[1;33m]\u001B[0m\u001B[1;33m\u001B[0m\u001B[1;33m\u001B[0m\u001B[0m\n",
      "\u001B[1;32mC:\\Anaconda3\\envs\\pytorch\\lib\\site-packages\\torch\\nn\\modules\\transformer.py\u001B[0m in \u001B[0;36mforward\u001B[1;34m(self, tgt, memory, tgt_mask, memory_mask, tgt_key_padding_mask, memory_key_padding_mask)\u001B[0m\n\u001B[0;32m    650\u001B[0m         \u001B[1;32melse\u001B[0m\u001B[1;33m:\u001B[0m\u001B[1;33m\u001B[0m\u001B[1;33m\u001B[0m\u001B[0m\n\u001B[0;32m    651\u001B[0m             \u001B[0mx\u001B[0m \u001B[1;33m=\u001B[0m \u001B[0mself\u001B[0m\u001B[1;33m.\u001B[0m\u001B[0mnorm1\u001B[0m\u001B[1;33m(\u001B[0m\u001B[0mx\u001B[0m \u001B[1;33m+\u001B[0m \u001B[0mself\u001B[0m\u001B[1;33m.\u001B[0m\u001B[0m_sa_block\u001B[0m\u001B[1;33m(\u001B[0m\u001B[0mx\u001B[0m\u001B[1;33m,\u001B[0m \u001B[0mtgt_mask\u001B[0m\u001B[1;33m,\u001B[0m \u001B[0mtgt_key_padding_mask\u001B[0m\u001B[1;33m)\u001B[0m\u001B[1;33m)\u001B[0m\u001B[1;33m\u001B[0m\u001B[1;33m\u001B[0m\u001B[0m\n\u001B[1;32m--> 652\u001B[1;33m             \u001B[0mx\u001B[0m \u001B[1;33m=\u001B[0m \u001B[0mself\u001B[0m\u001B[1;33m.\u001B[0m\u001B[0mnorm2\u001B[0m\u001B[1;33m(\u001B[0m\u001B[0mx\u001B[0m \u001B[1;33m+\u001B[0m \u001B[0mself\u001B[0m\u001B[1;33m.\u001B[0m\u001B[0m_mha_block\u001B[0m\u001B[1;33m(\u001B[0m\u001B[0mx\u001B[0m\u001B[1;33m,\u001B[0m \u001B[0mmemory\u001B[0m\u001B[1;33m,\u001B[0m \u001B[0mmemory_mask\u001B[0m\u001B[1;33m,\u001B[0m \u001B[0mmemory_key_padding_mask\u001B[0m\u001B[1;33m)\u001B[0m\u001B[1;33m)\u001B[0m\u001B[1;33m\u001B[0m\u001B[1;33m\u001B[0m\u001B[0m\n\u001B[0m\u001B[0;32m    653\u001B[0m             \u001B[0mx\u001B[0m \u001B[1;33m=\u001B[0m \u001B[0mself\u001B[0m\u001B[1;33m.\u001B[0m\u001B[0mnorm3\u001B[0m\u001B[1;33m(\u001B[0m\u001B[0mx\u001B[0m \u001B[1;33m+\u001B[0m \u001B[0mself\u001B[0m\u001B[1;33m.\u001B[0m\u001B[0m_ff_block\u001B[0m\u001B[1;33m(\u001B[0m\u001B[0mx\u001B[0m\u001B[1;33m)\u001B[0m\u001B[1;33m)\u001B[0m\u001B[1;33m\u001B[0m\u001B[1;33m\u001B[0m\u001B[0m\n\u001B[0;32m    654\u001B[0m \u001B[1;33m\u001B[0m\u001B[0m\n",
      "\u001B[1;32mC:\\Anaconda3\\envs\\pytorch\\lib\\site-packages\\torch\\nn\\modules\\transformer.py\u001B[0m in \u001B[0;36m_mha_block\u001B[1;34m(self, x, mem, attn_mask, key_padding_mask)\u001B[0m\n\u001B[0;32m    670\u001B[0m                                 \u001B[0mattn_mask\u001B[0m\u001B[1;33m=\u001B[0m\u001B[0mattn_mask\u001B[0m\u001B[1;33m,\u001B[0m\u001B[1;33m\u001B[0m\u001B[1;33m\u001B[0m\u001B[0m\n\u001B[0;32m    671\u001B[0m                                 \u001B[0mkey_padding_mask\u001B[0m\u001B[1;33m=\u001B[0m\u001B[0mkey_padding_mask\u001B[0m\u001B[1;33m,\u001B[0m\u001B[1;33m\u001B[0m\u001B[1;33m\u001B[0m\u001B[0m\n\u001B[1;32m--> 672\u001B[1;33m                                 need_weights=False)[0]\n\u001B[0m\u001B[0;32m    673\u001B[0m         \u001B[1;32mreturn\u001B[0m \u001B[0mself\u001B[0m\u001B[1;33m.\u001B[0m\u001B[0mdropout2\u001B[0m\u001B[1;33m(\u001B[0m\u001B[0mx\u001B[0m\u001B[1;33m)\u001B[0m\u001B[1;33m\u001B[0m\u001B[1;33m\u001B[0m\u001B[0m\n\u001B[0;32m    674\u001B[0m \u001B[1;33m\u001B[0m\u001B[0m\n",
      "\u001B[1;32mC:\\Anaconda3\\envs\\pytorch\\lib\\site-packages\\torch\\nn\\modules\\module.py\u001B[0m in \u001B[0;36m_call_impl\u001B[1;34m(self, *input, **kwargs)\u001B[0m\n\u001B[0;32m   1192\u001B[0m         if not (self._backward_hooks or self._forward_hooks or self._forward_pre_hooks or _global_backward_hooks\n\u001B[0;32m   1193\u001B[0m                 or _global_forward_hooks or _global_forward_pre_hooks):\n\u001B[1;32m-> 1194\u001B[1;33m             \u001B[1;32mreturn\u001B[0m \u001B[0mforward_call\u001B[0m\u001B[1;33m(\u001B[0m\u001B[1;33m*\u001B[0m\u001B[0minput\u001B[0m\u001B[1;33m,\u001B[0m \u001B[1;33m**\u001B[0m\u001B[0mkwargs\u001B[0m\u001B[1;33m)\u001B[0m\u001B[1;33m\u001B[0m\u001B[1;33m\u001B[0m\u001B[0m\n\u001B[0m\u001B[0;32m   1195\u001B[0m         \u001B[1;31m# Do not call functions when jit is used\u001B[0m\u001B[1;33m\u001B[0m\u001B[1;33m\u001B[0m\u001B[1;33m\u001B[0m\u001B[0m\n\u001B[0;32m   1196\u001B[0m         \u001B[0mfull_backward_hooks\u001B[0m\u001B[1;33m,\u001B[0m \u001B[0mnon_full_backward_hooks\u001B[0m \u001B[1;33m=\u001B[0m \u001B[1;33m[\u001B[0m\u001B[1;33m]\u001B[0m\u001B[1;33m,\u001B[0m \u001B[1;33m[\u001B[0m\u001B[1;33m]\u001B[0m\u001B[1;33m\u001B[0m\u001B[1;33m\u001B[0m\u001B[0m\n",
      "\u001B[1;32mC:\\Anaconda3\\envs\\pytorch\\lib\\site-packages\\torch\\nn\\modules\\activation.py\u001B[0m in \u001B[0;36mforward\u001B[1;34m(self, query, key, value, key_padding_mask, need_weights, attn_mask, average_attn_weights)\u001B[0m\n\u001B[0;32m   1172\u001B[0m                 \u001B[0mtraining\u001B[0m\u001B[1;33m=\u001B[0m\u001B[0mself\u001B[0m\u001B[1;33m.\u001B[0m\u001B[0mtraining\u001B[0m\u001B[1;33m,\u001B[0m\u001B[1;33m\u001B[0m\u001B[1;33m\u001B[0m\u001B[0m\n\u001B[0;32m   1173\u001B[0m                 \u001B[0mkey_padding_mask\u001B[0m\u001B[1;33m=\u001B[0m\u001B[0mkey_padding_mask\u001B[0m\u001B[1;33m,\u001B[0m \u001B[0mneed_weights\u001B[0m\u001B[1;33m=\u001B[0m\u001B[0mneed_weights\u001B[0m\u001B[1;33m,\u001B[0m\u001B[1;33m\u001B[0m\u001B[1;33m\u001B[0m\u001B[0m\n\u001B[1;32m-> 1174\u001B[1;33m                 attn_mask=attn_mask, average_attn_weights=average_attn_weights)\n\u001B[0m\u001B[0;32m   1175\u001B[0m         \u001B[1;32mif\u001B[0m \u001B[0mself\u001B[0m\u001B[1;33m.\u001B[0m\u001B[0mbatch_first\u001B[0m \u001B[1;32mand\u001B[0m \u001B[0mis_batched\u001B[0m\u001B[1;33m:\u001B[0m\u001B[1;33m\u001B[0m\u001B[1;33m\u001B[0m\u001B[0m\n\u001B[0;32m   1176\u001B[0m             \u001B[1;32mreturn\u001B[0m \u001B[0mattn_output\u001B[0m\u001B[1;33m.\u001B[0m\u001B[0mtranspose\u001B[0m\u001B[1;33m(\u001B[0m\u001B[1;36m1\u001B[0m\u001B[1;33m,\u001B[0m \u001B[1;36m0\u001B[0m\u001B[1;33m)\u001B[0m\u001B[1;33m,\u001B[0m \u001B[0mattn_output_weights\u001B[0m\u001B[1;33m\u001B[0m\u001B[1;33m\u001B[0m\u001B[0m\n",
      "\u001B[1;32mC:\\Anaconda3\\envs\\pytorch\\lib\\site-packages\\torch\\nn\\functional.py\u001B[0m in \u001B[0;36mmulti_head_attention_forward\u001B[1;34m(query, key, value, embed_dim_to_check, num_heads, in_proj_weight, in_proj_bias, bias_k, bias_v, add_zero_attn, dropout_p, out_proj_weight, out_proj_bias, training, key_padding_mask, need_weights, attn_mask, use_separate_proj_weight, q_proj_weight, k_proj_weight, v_proj_weight, static_k, static_v, average_attn_weights)\u001B[0m\n\u001B[0;32m   5159\u001B[0m     \u001B[1;32melse\u001B[0m\u001B[1;33m:\u001B[0m\u001B[1;33m\u001B[0m\u001B[1;33m\u001B[0m\u001B[0m\n\u001B[0;32m   5160\u001B[0m         \u001B[0mattn_output_weights\u001B[0m \u001B[1;33m=\u001B[0m \u001B[0mtorch\u001B[0m\u001B[1;33m.\u001B[0m\u001B[0mbmm\u001B[0m\u001B[1;33m(\u001B[0m\u001B[0mq_scaled\u001B[0m\u001B[1;33m,\u001B[0m \u001B[0mk\u001B[0m\u001B[1;33m.\u001B[0m\u001B[0mtranspose\u001B[0m\u001B[1;33m(\u001B[0m\u001B[1;33m-\u001B[0m\u001B[1;36m2\u001B[0m\u001B[1;33m,\u001B[0m \u001B[1;33m-\u001B[0m\u001B[1;36m1\u001B[0m\u001B[1;33m)\u001B[0m\u001B[1;33m)\u001B[0m\u001B[1;33m\u001B[0m\u001B[1;33m\u001B[0m\u001B[0m\n\u001B[1;32m-> 5161\u001B[1;33m     \u001B[0mattn_output_weights\u001B[0m \u001B[1;33m=\u001B[0m \u001B[0msoftmax\u001B[0m\u001B[1;33m(\u001B[0m\u001B[0mattn_output_weights\u001B[0m\u001B[1;33m,\u001B[0m \u001B[0mdim\u001B[0m\u001B[1;33m=\u001B[0m\u001B[1;33m-\u001B[0m\u001B[1;36m1\u001B[0m\u001B[1;33m)\u001B[0m\u001B[1;33m\u001B[0m\u001B[1;33m\u001B[0m\u001B[0m\n\u001B[0m\u001B[0;32m   5162\u001B[0m     \u001B[1;32mif\u001B[0m \u001B[0mdropout_p\u001B[0m \u001B[1;33m>\u001B[0m \u001B[1;36m0.0\u001B[0m\u001B[1;33m:\u001B[0m\u001B[1;33m\u001B[0m\u001B[1;33m\u001B[0m\u001B[0m\n\u001B[0;32m   5163\u001B[0m         \u001B[0mattn_output_weights\u001B[0m \u001B[1;33m=\u001B[0m \u001B[0mdropout\u001B[0m\u001B[1;33m(\u001B[0m\u001B[0mattn_output_weights\u001B[0m\u001B[1;33m,\u001B[0m \u001B[0mp\u001B[0m\u001B[1;33m=\u001B[0m\u001B[0mdropout_p\u001B[0m\u001B[1;33m)\u001B[0m\u001B[1;33m\u001B[0m\u001B[1;33m\u001B[0m\u001B[0m\n",
      "\u001B[1;32mC:\\Anaconda3\\envs\\pytorch\\lib\\site-packages\\torch\\nn\\functional.py\u001B[0m in \u001B[0;36msoftmax\u001B[1;34m(input, dim, _stacklevel, dtype)\u001B[0m\n\u001B[0;32m   1839\u001B[0m         \u001B[0mdim\u001B[0m \u001B[1;33m=\u001B[0m \u001B[0m_get_softmax_dim\u001B[0m\u001B[1;33m(\u001B[0m\u001B[1;34m\"softmax\"\u001B[0m\u001B[1;33m,\u001B[0m \u001B[0minput\u001B[0m\u001B[1;33m.\u001B[0m\u001B[0mdim\u001B[0m\u001B[1;33m(\u001B[0m\u001B[1;33m)\u001B[0m\u001B[1;33m,\u001B[0m \u001B[0m_stacklevel\u001B[0m\u001B[1;33m)\u001B[0m\u001B[1;33m\u001B[0m\u001B[1;33m\u001B[0m\u001B[0m\n\u001B[0;32m   1840\u001B[0m     \u001B[1;32mif\u001B[0m \u001B[0mdtype\u001B[0m \u001B[1;32mis\u001B[0m \u001B[1;32mNone\u001B[0m\u001B[1;33m:\u001B[0m\u001B[1;33m\u001B[0m\u001B[1;33m\u001B[0m\u001B[0m\n\u001B[1;32m-> 1841\u001B[1;33m         \u001B[0mret\u001B[0m \u001B[1;33m=\u001B[0m \u001B[0minput\u001B[0m\u001B[1;33m.\u001B[0m\u001B[0msoftmax\u001B[0m\u001B[1;33m(\u001B[0m\u001B[0mdim\u001B[0m\u001B[1;33m)\u001B[0m\u001B[1;33m\u001B[0m\u001B[1;33m\u001B[0m\u001B[0m\n\u001B[0m\u001B[0;32m   1842\u001B[0m     \u001B[1;32melse\u001B[0m\u001B[1;33m:\u001B[0m\u001B[1;33m\u001B[0m\u001B[1;33m\u001B[0m\u001B[0m\n\u001B[0;32m   1843\u001B[0m         \u001B[0mret\u001B[0m \u001B[1;33m=\u001B[0m \u001B[0minput\u001B[0m\u001B[1;33m.\u001B[0m\u001B[0msoftmax\u001B[0m\u001B[1;33m(\u001B[0m\u001B[0mdim\u001B[0m\u001B[1;33m,\u001B[0m \u001B[0mdtype\u001B[0m\u001B[1;33m=\u001B[0m\u001B[0mdtype\u001B[0m\u001B[1;33m)\u001B[0m\u001B[1;33m\u001B[0m\u001B[1;33m\u001B[0m\u001B[0m\n",
      "\u001B[1;31mOutOfMemoryError\u001B[0m: CUDA out of memory. Tried to allocate 20.00 MiB (GPU 0; 4.00 GiB total capacity; 3.44 GiB already allocated; 0 bytes free; 3.50 GiB reserved in total by PyTorch) If reserved memory is >> allocated memory try setting max_split_size_mb to avoid fragmentation.  See documentation for Memory Management and PYTORCH_CUDA_ALLOC_CONF"
     ]
    }
   ],
   "source": [
    "criteria = TranslationLoss()\n",
    "writer = SummaryWriter(log_dir='runs/transformer_loss')\n",
    "torch.cuda.empty_cache()\n",
    "\n",
    "step = 0\n",
    "\n",
    "if model_checkpoint:\n",
    "    step = int('model_60000.pt'.replace(\"model_\", \"\").replace(\".pt\", \"\"))\n",
    "\n",
    "model.train()\n",
    "for epoch in range(epochs):\n",
    "    loop = tqdm(enumerate(train_loader), total=len(train_loader))\n",
    "    for index, data in enumerate(train_loader):\n",
    "        # 生成数据\n",
    "        src, tgt, tgt_y, n_tokens = data\n",
    "        src, tgt, tgt_y = src.to(device), tgt.to(device), tgt_y.to(device)\n",
    "\n",
    "        # 清空梯度\n",
    "        optimizer.zero_grad()\n",
    "        # 进行transformer的计算\n",
    "        out = model(src, tgt)\n",
    "        # 将结果送给最后的线性层进行预测\n",
    "        out = model.predictor(out)\n",
    "\n",
    "        loss = criteria(out.contiguous().view(-1, out.size(-1)), tgt_y.contiguous().view(-1)) / n_tokens\n",
    "        # 计算梯度\n",
    "        loss.backward()\n",
    "        # 更新参数\n",
    "        optimizer.step()\n",
    "\n",
    "        loop.set_description(\"Epoch {}/{}\".format(epoch, epochs))\n",
    "        loop.set_postfix(loss=loss.item())\n",
    "        loop.update(1)\n",
    "\n",
    "        step += 1\n",
    "\n",
    "        del src\n",
    "        del tgt\n",
    "        del tgt_y\n",
    "\n",
    "        if step != 0 and step % save_after_step == 0:\n",
    "            torch.save(model, model_dir / f\"model_{step}.pt\")"
   ],
   "metadata": {
    "collapsed": false,
    "pycharm": {
     "name": "#%%\n"
    }
   }
  },
  {
   "cell_type": "code",
   "execution_count": 27,
   "outputs": [],
   "source": [
    "model = model.eval()\n",
    "\n",
    "def translate(src: str):\n",
    "    # 将与原句子分词后，通过词典转为index，然后增加<bos>和<eos>\n",
    "    src = torch.tensor([0] + en_vocab(en_tokenizer(src)) + [1]).unsqueeze(0).to(device)\n",
    "    # 首次tgt为<bos>\n",
    "    tgt = torch.tensor([[0]]).to(device)\n",
    "    # 一个一个词预测，直到预测为<eos>，或者达到句子最大长度\n",
    "    for i in range(max_length):\n",
    "        # 进行transformer计算\n",
    "        out = model(src, tgt)\n",
    "        # 预测结果，因为只需要看最后一个词，所以取`out[:, -1]`\n",
    "        predict = model.predictor(out[:, -1])\n",
    "        # 找出最大值的index\n",
    "        y = torch.argmax(predict, dim=1)\n",
    "        # 和之前的预测结果拼接到一起\n",
    "        tgt = torch.concat([tgt, y.unsqueeze(0)], dim=1)\n",
    "        # 如果为<eos>，说明预测结束，跳出循环\n",
    "        if y == 1:\n",
    "            break\n",
    "    # 将预测tokens拼起来\n",
    "    tgt = ''.join(zh_vocab.lookup_tokens(tgt.squeeze().tolist())).replace(\"<s>\", \"\").replace(\"</s>\", \"\")\n",
    "    return tgt"
   ],
   "metadata": {
    "collapsed": false,
    "pycharm": {
     "name": "#%%\n"
    }
   }
  },
  {
   "cell_type": "code",
   "execution_count": 28,
   "outputs": [
    {
     "data": {
      "text/plain": "'好吧，这是我想说的。你想我多么想。我怎么想？'"
     },
     "execution_count": 28,
     "metadata": {},
     "output_type": "execute_result"
    }
   ],
   "source": [
    "translate(\"Okay, this is all what I want to say. Can you guess how much I love you?\")"
   ],
   "metadata": {
    "collapsed": false,
    "pycharm": {
     "name": "#%%\n"
    }
   }
  },
  {
   "cell_type": "code",
   "execution_count": null,
   "outputs": [],
   "source": [],
   "metadata": {
    "collapsed": false,
    "pycharm": {
     "name": "#%%\n"
    }
   }
  }
 ],
 "metadata": {
  "kernelspec": {
   "display_name": "Python 3",
   "language": "python",
   "name": "python3"
  },
  "language_info": {
   "codemirror_mode": {
    "name": "ipython",
    "version": 2
   },
   "file_extension": ".py",
   "mimetype": "text/x-python",
   "name": "python",
   "nbconvert_exporter": "python",
   "pygments_lexer": "ipython2",
   "version": "2.7.6"
  }
 },
 "nbformat": 4,
 "nbformat_minor": 0
}